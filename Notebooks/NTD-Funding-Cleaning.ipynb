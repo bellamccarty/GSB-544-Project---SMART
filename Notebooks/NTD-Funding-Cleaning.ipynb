{
 "cells": [
  {
   "cell_type": "raw",
   "metadata": {
    "vscode": {
     "languageId": "raw"
    }
   },
   "source": [
    "---\n",
    "title: NTD Funding Sources Cleaning\"\n",
    "author: Sam Ricafrente\n",
    "format:\n",
    "    html:\n",
    "        toc: true\n",
    "        code-fold: true\n",
    "        embed-resources: true\n",
    "---"
   ]
  },
  {
   "cell_type": "code",
   "execution_count": 2,
   "metadata": {},
   "outputs": [],
   "source": [
    "import pandas as pd\n",
    "import numpy as np\n",
    "from plotnine import *"
   ]
  },
  {
   "cell_type": "code",
   "execution_count": null,
   "metadata": {},
   "outputs": [],
   "source": [
    "# Import Local Data\n",
    "local = pd.read_csv('../Data/NTD-Funding-Sources-Local.csv')\n",
    "\n",
    "# Standardize column names\n",
    "local.columns = local.columns.str.strip().str.lower().str.replace(' ', '_')\n",
    "\n",
    "local['total_funding'] = local['total']\n",
    "# local.to_csv('Cleaned-NTD-Funding-Local.csv', index=False, na_rep='NA')\n",
    "\n",
    "# Standardize column names\n",
    "# expenses.columns = expenses.columns.str.strip().str.lower().str.replace(' ', '_')\n",
    "# expenses.to_csv('Cleaned-NTD-Expenses.csv', index=False, na_rep='NA')"
   ]
  },
  {
   "cell_type": "code",
   "execution_count": 19,
   "metadata": {},
   "outputs": [],
   "source": [
    "funding = pd.read_csv('../Data/Cleaned-NTD-Funding.csv')\n",
    "expenses = pd.read_csv('../Data/Cleaned-NTD-Expenses.csv')"
   ]
  },
  {
   "cell_type": "code",
   "execution_count": 28,
   "metadata": {},
   "outputs": [],
   "source": [
    "merge_keys = [\n",
    "    'agency', 'city', 'state',\n",
    "    'ntd_id', 'organization_type', 'reporter_type',\n",
    "    'report_year', 'uace_code', 'uza_name',\n",
    "    'primary_uza_population'\n",
    "]\n",
    "nta = pd.merge(funding, expenses, on=merge_keys, how='outer')\n",
    "\n",
    "nta.to_csv('Merged-NTA.csv', index=False, na_rep='NA')"
   ]
  },
  {
   "cell_type": "code",
   "execution_count": 3,
   "metadata": {},
   "outputs": [],
   "source": [
    "nta = pd.read_csv('../Data/Merged-NTA.csv')\n",
    "\n",
    "# nta['profit'] = nta['total_funding'] - nta['total_expenses']\n",
    "# nta.to_csv('Merged-NTA.csv', index=False, na_rep='NA')\n"
   ]
  }
 ],
 "metadata": {
  "kernelspec": {
   "display_name": "Python 3",
   "language": "python",
   "name": "python3"
  },
  "language_info": {
   "codemirror_mode": {
    "name": "ipython",
    "version": 3
   },
   "file_extension": ".py",
   "mimetype": "text/x-python",
   "name": "python",
   "nbconvert_exporter": "python",
   "pygments_lexer": "ipython3",
   "version": "3.13.0"
  }
 },
 "nbformat": 4,
 "nbformat_minor": 2
}
