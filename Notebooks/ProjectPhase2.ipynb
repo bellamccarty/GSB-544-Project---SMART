{
 "cells": [
  {
   "metadata": {},
   "cell_type": "raw",
   "source": [
    "---\n",
    "title: \"Project Phase 2: Preliminary Model Results\"\n",
    "author: \n",
    "  - Jenny Luu (Model Critic)\n",
    "  - Isabella McCarty (Arbitrator)\n",
    "  - Sneha Narayanan (Coordinator)\n",
    "  - Sam Ricafrente (Project Facilitator)\n",
    "  - Blake Reavis (Initiator)\n",
    "format:\n",
    "  html:\n",
    "    toc: true\n",
    "    code-fold: true\n",
    "    embed-resources: true\n",
    "execute:\n",
    "  echo: false\n",
    "  warning: false\n",
    "---"
   ]
  },
  {
   "metadata": {},
   "cell_type": "markdown",
   "source": "# Introduction"
  },
  {
   "metadata": {},
   "cell_type": "markdown",
   "source": [
    "This analysis aims to provide actionable insights into improving public transportation systems\n",
    "by combining a countrywide perspective with a detailed study of New York City's transit systems.\n",
    "We focus on three key areas:\n",
    "1. **Countrywide Transit Trends** (NTD Dataset): Identify characteristics of successful transit systems.\n",
    "2. **NYC Transit Analysis**: Evaluate subway and bus performance and bottlenecks.\n",
    "3. **CitiBike Integration**: Assess CitiBike's role in complementing public transit in NYC."
   ]
  },
  {
   "metadata": {
    "ExecuteTime": {
     "end_time": "2024-11-27T06:54:40.088015Z",
     "start_time": "2024-11-27T06:54:39.891240Z"
    }
   },
   "cell_type": "code",
   "source": [
    "# --- Libraries ---\n",
    "import pandas as pd\n",
    "import matplotlib.pyplot as plt\n",
    "import seaborn as sns\n",
    "from sklearn.model_selection import train_test_split\n",
    "from sklearn.linear_model import LinearRegression\n",
    "from sklearn.metrics import r2_score, mean_absolute_error\n",
    "from plotnine import *"
   ],
   "outputs": [],
   "execution_count": 2
  },
  {
   "metadata": {},
   "cell_type": "markdown",
   "source": "# 2. Countrywide Analysis: NTD Dataset"
  },
  {
   "metadata": {},
   "cell_type": "markdown",
   "source": [
    "#### 2.1 Data Summary\n",
    "\n",
    "We use the National Transit Database (NTD) dataset, which includes:\n",
    "- Operational metrics (e.g., expenses, ridership, maintenance costs).\n",
    "- Demographic information (e.g., urbanized area population).\n",
    "Our goal is to identify patterns of efficiency and fiscal responsibility across U.S. cities."
   ]
  },
  {
   "metadata": {},
   "cell_type": "code",
   "outputs": [],
   "execution_count": null,
   "source": [
    "# Load the NTD dataset\n",
    "ntd_data = pd.read_csv(\"Data/Merged-NTA.csv\")\n",
    "\n",
    "# Inspect the data\n",
    "print(ntd_data.info())\n",
    "print(ntd_data.describe())"
   ]
  },
  {
   "metadata": {},
   "cell_type": "markdown",
   "source": [
    "#### 2.2 Clustering Analysis\n",
    "Clustering was applied to group cities based on operational characteristics:\n",
    "- Input Features: Population, ridership, total expenses.\n",
    "- Method: K-Means Clustering."
   ]
  },
  {
   "metadata": {},
   "cell_type": "code",
   "outputs": [],
   "execution_count": null,
   "source": "# Code Here"
  },
  {
   "metadata": {},
   "cell_type": "markdown",
   "source": "# 3. NYC Transit Analysis: Subway and Bus Data"
  },
  {
   "metadata": {},
   "cell_type": "markdown",
   "source": [
    "#### 3.1 Data Summary\n",
    "\n",
    "We analyze subway and bus ridership trends in NYC using data from the MTA.\n",
    "Key questions include:\n",
    "1. How do ridership trends vary over time?\n",
    "2. What are the busiest routes and times?"
   ]
  },
  {
   "metadata": {},
   "cell_type": "code",
   "outputs": [],
   "execution_count": null,
   "source": [
    "# Load NYC Transit data\n",
    "subway_data = pd.read_csv(\"Subway_Ridership_Data_Cleaned.csv\")\n",
    "bus_data = pd.read_csv(\"MTA_Bus_Data_Clean.csv\")\n",
    "\n",
    "# Inspect the datasets\n",
    "print(subway_data.head())\n",
    "print(bus_data.head())"
   ]
  },
  {
   "metadata": {},
   "cell_type": "markdown",
   "source": [
    "\n",
    "#### 3.2 Time Series Analysis: Subway Ridership\n",
    "We perform time series analysis to predict future subway ridership trends."
   ]
  },
  {
   "metadata": {},
   "cell_type": "code",
   "outputs": [],
   "execution_count": null,
   "source": "# Code"
  },
  {
   "metadata": {},
   "cell_type": "markdown",
   "source": "# 4. CitiBike Integration"
  },
  {
   "metadata": {},
   "cell_type": "markdown",
   "source": [
    "#### 4.1 Data Summary\n",
    "\n",
    "We integrate CitiBike data with transit data to assess how well CitiBike complements NYC transit."
   ]
  },
  {
   "metadata": {},
   "cell_type": "code",
   "outputs": [],
   "execution_count": null,
   "source": [
    "# Load CitiBike data\n",
    "citibike_data = pd.read_csv(\"CitiBike_Data.csv\")\n",
    "\n",
    "# Inspect the dataset\n",
    "print(citibike_data.info())"
   ]
  },
  {
   "metadata": {},
   "cell_type": "markdown",
   "source": [
    "#### 4.2 Regression: Weather and Ride Volume\n",
    "\n",
    "A regression model predicts CitiBike ride volume using weather data."
   ]
  },
  {
   "metadata": {},
   "cell_type": "code",
   "outputs": [],
   "execution_count": null,
   "source": "# regression code placeholder"
  },
  {
   "metadata": {},
   "cell_type": "markdown",
   "source": [
    "# 5. Recommendations\n",
    "\n",
    "\n",
    "1. Expand CitiBike stations near high-traffic subway stations.\n",
    "2. Optimize NYC bus routes based on clustering and geospatial data.\n",
    "3. Apply countrywide best practices (e.g., resource allocation strategies)."
   ]
  },
  {
   "metadata": {},
   "cell_type": "markdown",
   "source": [
    "# 5.1 Ethical Considerations\n",
    "\n",
    "We emphasize equitable access and environmental sustainability in all recommendations."
   ]
  },
  {
   "cell_type": "code",
   "metadata": {
    "ExecuteTime": {
     "end_time": "2024-11-15T23:09:32.834114Z",
     "start_time": "2024-11-15T23:09:32.830140Z"
    }
   },
   "source": [
    "# Hi"
   ],
   "outputs": [],
   "execution_count": 1
  },
  {
   "metadata": {},
   "cell_type": "code",
   "outputs": [],
   "execution_count": null,
   "source": "# Hey Sam"
  }
 ],
 "metadata": {
  "language_info": {
   "name": "python"
  },
  "kernelspec": {
   "name": "python3",
   "language": "python",
   "display_name": "Python 3 (ipykernel)"
  }
 },
 "nbformat": 4,
 "nbformat_minor": 2
}
