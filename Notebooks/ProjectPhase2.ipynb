{
 "cells": [
  {
   "metadata": {},
   "cell_type": "raw",
   "source": [
    "---\n",
    "title: \"Project Phase 2: Preliminary Model Results\"\n",
    "author: \n",
    "  - Jenny Luu (Model Critic)\n",
    "  - Isabella McCarty (Arbitrator)\n",
    "  - Sneha Narayanan (Coordinator)\n",
    "  - Sam Ricafrente (Project Facilitator)\n",
    "  - Blake Reavis (Initiator)\n",
    "format:\n",
    "  html:\n",
    "    toc: true\n",
    "    code-fold: true\n",
    "    embed-resources: true\n",
    "execute:\n",
    "  echo: false\n",
    "  warning: false\n",
    "---"
   ]
  },
  {
   "metadata": {},
   "cell_type": "markdown",
   "source": "# Introduction"
  },
  {
   "metadata": {},
   "cell_type": "markdown",
   "source": [
    "This analysis aims to provide actionable insights into improving public transportation systems\n",
    "by combining a countrywide perspective with a detailed study of New York City's transit systems.\n",
    "We focus on three key areas:\n",
    "1. **Countrywide Transit Trends** (NTD Dataset): Identify characteristics of successful transit systems.\n",
    "2. **NYC Transit Analysis**: Evaluate subway and bus performance and bottlenecks.\n",
    "3. **CitiBike Integration**: Assess CitiBike's role in complementing public transit in NYC."
   ]
  },
  {
   "metadata": {
    "ExecuteTime": {
     "end_time": "2024-11-27T07:04:41.704585Z",
     "start_time": "2024-11-27T07:04:41.701997Z"
    }
   },
   "cell_type": "code",
   "source": [
    "# --- Libraries ---\n",
    "import pandas as pd\n",
    "import matplotlib.pyplot as plt\n",
    "import seaborn as sns\n",
    "from sklearn.model_selection import train_test_split\n",
    "from sklearn.linear_model import LinearRegression\n",
    "from sklearn.metrics import r2_score, mean_absolute_error\n",
    "from plotnine import *"
   ],
   "outputs": [],
   "execution_count": 4
  },
  {
   "metadata": {},
   "cell_type": "markdown",
   "source": "# 2. Countrywide Analysis: NTD Dataset"
  },
  {
   "metadata": {},
   "cell_type": "markdown",
   "source": [
    "#### 2.1 Data Summary\n",
    "\n",
    "We use the National Transit Database (NTD) dataset, which includes:\n",
    "- Operational metrics (e.g., expenses, ridership, maintenance costs).\n",
    "- Demographic information (e.g., urbanized area population).\n",
    "Our goal is to identify patterns of efficiency and fiscal responsibility across U.S. cities."
   ]
  },
  {
   "metadata": {
    "ExecuteTime": {
     "end_time": "2024-11-27T07:04:41.795141Z",
     "start_time": "2024-11-27T07:04:41.736633Z"
    }
   },
   "cell_type": "code",
   "source": [
    "# Load the NTD dataset\n",
    "ntd_data = pd.read_csv(\"Data/Merged-NTA.csv\")\n",
    "\n",
    "# Inspect the data\n",
    "print(ntd_data.info())\n",
    "print(ntd_data.describe())"
   ],
   "outputs": [
    {
     "name": "stdout",
     "output_type": "stream",
     "text": [
      "<class 'pandas.core.frame.DataFrame'>\n",
      "RangeIndex: 132 entries, 0 to 131\n",
      "Data columns (total 34 columns):\n",
      " #   Column                                        Non-Null Count  Dtype  \n",
      "---  ------                                        --------------  -----  \n",
      " 0   agency                                        132 non-null    object \n",
      " 1   city                                          132 non-null    object \n",
      " 2   state                                         132 non-null    object \n",
      " 3   ntd_id                                        132 non-null    int64  \n",
      " 4   organization_type                             132 non-null    object \n",
      " 5   reporter_type                                 132 non-null    object \n",
      " 6   report_year                                   132 non-null    int64  \n",
      " 7   uace_code                                     78 non-null     float64\n",
      " 8   uza_name                                      78 non-null     object \n",
      " 9   primary_uza_population                        78 non-null     float64\n",
      " 10  voms                                          132 non-null    int64  \n",
      " 11  general_fund                                  132 non-null    int64  \n",
      " 12  income_tax                                    132 non-null    int64  \n",
      " 13  sales_tax                                     132 non-null    int64  \n",
      " 14  property_tax                                  132 non-null    int64  \n",
      " 15  fuel_tax                                      132 non-null    int64  \n",
      " 16  other_tax                                     132 non-null    int64  \n",
      " 17  tolls                                         132 non-null    int64  \n",
      " 18  other_funds                                   132 non-null    int64  \n",
      " 19  reduced_funds                                 132 non-null    int64  \n",
      " 20  total_funding                                 132 non-null    int64  \n",
      " 21  agency_voms                                   132 non-null    int64  \n",
      " 22  mode                                          132 non-null    object \n",
      " 23  mode_name                                     132 non-null    object \n",
      " 24  tos                                           132 non-null    object \n",
      " 25  mode_voms                                     132 non-null    int64  \n",
      " 26  vehicle_operations                            132 non-null    int64  \n",
      " 27  vehicle_maintenance                           132 non-null    int64  \n",
      " 28  facility_maintenance                          132 non-null    int64  \n",
      " 29  general_administration                        132 non-null    int64  \n",
      " 30  reduced_reporter_expenses                     132 non-null    int64  \n",
      " 31  total_expenses                                132 non-null    int64  \n",
      " 32  purchased_transportation_reported_separately  132 non-null    int64  \n",
      " 33  profit                                        132 non-null    int64  \n",
      "dtypes: float64(2), int64(23), object(9)\n",
      "memory usage: 35.2+ KB\n",
      "None\n",
      "             ntd_id  report_year     uace_code  primary_uza_population  \\\n",
      "count    132.000000        132.0     78.000000            7.800000e+01   \n",
      "mean   20508.287879       2023.0  54836.115385            9.184145e+06   \n",
      "std      562.548787          0.0  23714.317994            9.552344e+06   \n",
      "min    20002.000000       2023.0     36.000000            5.183200e+04   \n",
      "25%    20078.000000       2023.0  45443.000000            3.147660e+05   \n",
      "50%    20206.000000       2023.0  63217.000000            9.488640e+05   \n",
      "75%    20948.000000       2023.0  63217.000000            1.942645e+07   \n",
      "max    22930.000000       2023.0  92674.000000            1.942645e+07   \n",
      "\n",
      "               voms  general_fund    income_tax     sales_tax  property_tax  \\\n",
      "count    132.000000  1.320000e+02  1.320000e+02  1.320000e+02  1.320000e+02   \n",
      "mean     483.128788  7.127112e+07  1.557316e+05  6.678544e+05  1.580141e+07   \n",
      "std     1917.434141  3.074808e+08  1.789219e+06  4.061228e+06  7.427671e+07   \n",
      "min        1.000000  0.000000e+00  0.000000e+00  0.000000e+00  0.000000e+00   \n",
      "25%        6.750000  0.000000e+00  0.000000e+00  0.000000e+00  0.000000e+00   \n",
      "50%       14.000000  0.000000e+00  0.000000e+00  0.000000e+00  0.000000e+00   \n",
      "75%       54.750000  3.691579e+06  0.000000e+00  0.000000e+00  0.000000e+00   \n",
      "max    10040.000000  1.591521e+09  2.055657e+07  2.684050e+07  3.881133e+08   \n",
      "\n",
      "       fuel_tax  ...   agency_voms    mode_voms  vehicle_operations  \\\n",
      "count     132.0  ...    132.000000   132.000000        1.320000e+02   \n",
      "mean        0.0  ...    483.128788   126.159091        5.181990e+07   \n",
      "std         0.0  ...   1917.434141   569.021925        2.335786e+08   \n",
      "min         0.0  ...      1.000000     1.000000        0.000000e+00   \n",
      "25%         0.0  ...      6.750000     4.000000        0.000000e+00   \n",
      "50%         0.0  ...     14.000000     7.000000        0.000000e+00   \n",
      "75%         0.0  ...     54.750000    28.250000        3.489222e+06   \n",
      "max         0.0  ...  10040.000000  5384.000000        1.835650e+09   \n",
      "\n",
      "       vehicle_maintenance  facility_maintenance  general_administration  \\\n",
      "count         1.320000e+02          1.320000e+02            1.320000e+02   \n",
      "mean          2.240912e+07          2.815107e+07            2.358339e+07   \n",
      "std           1.140806e+08          2.129964e+08            1.104249e+08   \n",
      "min           0.000000e+00          0.000000e+00            0.000000e+00   \n",
      "25%           0.000000e+00          0.000000e+00            0.000000e+00   \n",
      "50%           0.000000e+00          0.000000e+00            0.000000e+00   \n",
      "75%           9.401080e+05          1.375052e+05            1.092888e+06   \n",
      "max           1.045989e+09          2.363284e+09            1.014596e+09   \n",
      "\n",
      "       reduced_reporter_expenses  total_expenses  \\\n",
      "count               1.320000e+02    1.320000e+02   \n",
      "mean                5.567998e+05    1.265203e+08   \n",
      "std                 8.787683e+05    6.360384e+08   \n",
      "min                 0.000000e+00    3.418800e+04   \n",
      "25%                 0.000000e+00    5.442070e+05   \n",
      "50%                 1.201725e+05    1.338485e+06   \n",
      "75%                 8.470408e+05    6.657242e+06   \n",
      "max                 5.445565e+06    6.047954e+09   \n",
      "\n",
      "       purchased_transportation_reported_separately        profit  \n",
      "count                                         132.0  1.320000e+02  \n",
      "mean                                            0.0 -2.278138e+07  \n",
      "std                                             0.0  4.825855e+08  \n",
      "min                                             0.0 -4.068319e+09  \n",
      "25%                                             0.0 -1.966364e+06  \n",
      "50%                                             0.0 -6.159165e+05  \n",
      "75%                                             0.0 -1.094995e+05  \n",
      "max                                             0.0  1.867130e+09  \n",
      "\n",
      "[8 rows x 25 columns]\n"
     ]
    }
   ],
   "execution_count": 5
  },
  {
   "metadata": {},
   "cell_type": "markdown",
   "source": [
    "#### 2.2 Clustering Analysis\n",
    "Clustering was applied to group cities based on operational characteristics:\n",
    "- Input Features: Population, ridership, total expenses.\n",
    "- Method: K-Means Clustering."
   ]
  },
  {
   "metadata": {
    "ExecuteTime": {
     "end_time": "2024-11-27T07:04:41.873967Z",
     "start_time": "2024-11-27T07:04:41.871050Z"
    }
   },
   "cell_type": "code",
   "source": "# Code Here",
   "outputs": [],
   "execution_count": 6
  },
  {
   "metadata": {},
   "cell_type": "markdown",
   "source": "# 3. NYC Transit Analysis: Subway and Bus Data"
  },
  {
   "metadata": {},
   "cell_type": "markdown",
   "source": [
    "#### 3.1 Data Summary\n",
    "\n",
    "We analyze subway and bus ridership trends in NYC using data from the MTA.\n",
    "Key questions include:\n",
    "1. How do ridership trends vary over time?\n",
    "2. What are the busiest routes and times?"
   ]
  },
  {
   "metadata": {
    "ExecuteTime": {
     "end_time": "2024-11-27T07:04:42.403611Z",
     "start_time": "2024-11-27T07:04:41.917989Z"
    }
   },
   "cell_type": "code",
   "source": [
    "# Load NYC Transit data\n",
    "subway_data = pd.read_csv(\"Subway_Ridership_Data_Cleaned.csv\")\n",
    "bus_data = pd.read_csv(\"MTA_Bus_Data_Clean.csv\")\n",
    "\n",
    "# Inspect the datasets\n",
    "print(subway_data.head())\n",
    "print(bus_data.head())"
   ],
   "outputs": [
    {
     "ename": "FileNotFoundError",
     "evalue": "[Errno 2] No such file or directory: 'Subway_Ridership_Data_Cleaned.csv'",
     "output_type": "error",
     "traceback": [
      "\u001B[1;31m---------------------------------------------------------------------------\u001B[0m",
      "\u001B[1;31mFileNotFoundError\u001B[0m                         Traceback (most recent call last)",
      "Cell \u001B[1;32mIn[7], line 2\u001B[0m\n\u001B[0;32m      1\u001B[0m \u001B[38;5;66;03m# Load NYC Transit data\u001B[39;00m\n\u001B[1;32m----> 2\u001B[0m subway_data \u001B[38;5;241m=\u001B[39m \u001B[43mpd\u001B[49m\u001B[38;5;241;43m.\u001B[39;49m\u001B[43mread_csv\u001B[49m\u001B[43m(\u001B[49m\u001B[38;5;124;43m\"\u001B[39;49m\u001B[38;5;124;43mSubway_Ridership_Data_Cleaned.csv\u001B[39;49m\u001B[38;5;124;43m\"\u001B[39;49m\u001B[43m)\u001B[49m\n\u001B[0;32m      3\u001B[0m bus_data \u001B[38;5;241m=\u001B[39m pd\u001B[38;5;241m.\u001B[39mread_csv(\u001B[38;5;124m\"\u001B[39m\u001B[38;5;124mMTA_Bus_Data_Clean.csv\u001B[39m\u001B[38;5;124m\"\u001B[39m)\n\u001B[0;32m      5\u001B[0m \u001B[38;5;66;03m# Inspect the datasets\u001B[39;00m\n",
      "File \u001B[1;32m~\\AppData\\Local\\Programs\\Python\\Python312\\Lib\\site-packages\\pandas\\io\\parsers\\readers.py:1026\u001B[0m, in \u001B[0;36mread_csv\u001B[1;34m(filepath_or_buffer, sep, delimiter, header, names, index_col, usecols, dtype, engine, converters, true_values, false_values, skipinitialspace, skiprows, skipfooter, nrows, na_values, keep_default_na, na_filter, verbose, skip_blank_lines, parse_dates, infer_datetime_format, keep_date_col, date_parser, date_format, dayfirst, cache_dates, iterator, chunksize, compression, thousands, decimal, lineterminator, quotechar, quoting, doublequote, escapechar, comment, encoding, encoding_errors, dialect, on_bad_lines, delim_whitespace, low_memory, memory_map, float_precision, storage_options, dtype_backend)\u001B[0m\n\u001B[0;32m   1013\u001B[0m kwds_defaults \u001B[38;5;241m=\u001B[39m _refine_defaults_read(\n\u001B[0;32m   1014\u001B[0m     dialect,\n\u001B[0;32m   1015\u001B[0m     delimiter,\n\u001B[1;32m   (...)\u001B[0m\n\u001B[0;32m   1022\u001B[0m     dtype_backend\u001B[38;5;241m=\u001B[39mdtype_backend,\n\u001B[0;32m   1023\u001B[0m )\n\u001B[0;32m   1024\u001B[0m kwds\u001B[38;5;241m.\u001B[39mupdate(kwds_defaults)\n\u001B[1;32m-> 1026\u001B[0m \u001B[38;5;28;01mreturn\u001B[39;00m \u001B[43m_read\u001B[49m\u001B[43m(\u001B[49m\u001B[43mfilepath_or_buffer\u001B[49m\u001B[43m,\u001B[49m\u001B[43m \u001B[49m\u001B[43mkwds\u001B[49m\u001B[43m)\u001B[49m\n",
      "File \u001B[1;32m~\\AppData\\Local\\Programs\\Python\\Python312\\Lib\\site-packages\\pandas\\io\\parsers\\readers.py:620\u001B[0m, in \u001B[0;36m_read\u001B[1;34m(filepath_or_buffer, kwds)\u001B[0m\n\u001B[0;32m    617\u001B[0m _validate_names(kwds\u001B[38;5;241m.\u001B[39mget(\u001B[38;5;124m\"\u001B[39m\u001B[38;5;124mnames\u001B[39m\u001B[38;5;124m\"\u001B[39m, \u001B[38;5;28;01mNone\u001B[39;00m))\n\u001B[0;32m    619\u001B[0m \u001B[38;5;66;03m# Create the parser.\u001B[39;00m\n\u001B[1;32m--> 620\u001B[0m parser \u001B[38;5;241m=\u001B[39m \u001B[43mTextFileReader\u001B[49m\u001B[43m(\u001B[49m\u001B[43mfilepath_or_buffer\u001B[49m\u001B[43m,\u001B[49m\u001B[43m \u001B[49m\u001B[38;5;241;43m*\u001B[39;49m\u001B[38;5;241;43m*\u001B[39;49m\u001B[43mkwds\u001B[49m\u001B[43m)\u001B[49m\n\u001B[0;32m    622\u001B[0m \u001B[38;5;28;01mif\u001B[39;00m chunksize \u001B[38;5;129;01mor\u001B[39;00m iterator:\n\u001B[0;32m    623\u001B[0m     \u001B[38;5;28;01mreturn\u001B[39;00m parser\n",
      "File \u001B[1;32m~\\AppData\\Local\\Programs\\Python\\Python312\\Lib\\site-packages\\pandas\\io\\parsers\\readers.py:1620\u001B[0m, in \u001B[0;36mTextFileReader.__init__\u001B[1;34m(self, f, engine, **kwds)\u001B[0m\n\u001B[0;32m   1617\u001B[0m     \u001B[38;5;28mself\u001B[39m\u001B[38;5;241m.\u001B[39moptions[\u001B[38;5;124m\"\u001B[39m\u001B[38;5;124mhas_index_names\u001B[39m\u001B[38;5;124m\"\u001B[39m] \u001B[38;5;241m=\u001B[39m kwds[\u001B[38;5;124m\"\u001B[39m\u001B[38;5;124mhas_index_names\u001B[39m\u001B[38;5;124m\"\u001B[39m]\n\u001B[0;32m   1619\u001B[0m \u001B[38;5;28mself\u001B[39m\u001B[38;5;241m.\u001B[39mhandles: IOHandles \u001B[38;5;241m|\u001B[39m \u001B[38;5;28;01mNone\u001B[39;00m \u001B[38;5;241m=\u001B[39m \u001B[38;5;28;01mNone\u001B[39;00m\n\u001B[1;32m-> 1620\u001B[0m \u001B[38;5;28mself\u001B[39m\u001B[38;5;241m.\u001B[39m_engine \u001B[38;5;241m=\u001B[39m \u001B[38;5;28;43mself\u001B[39;49m\u001B[38;5;241;43m.\u001B[39;49m\u001B[43m_make_engine\u001B[49m\u001B[43m(\u001B[49m\u001B[43mf\u001B[49m\u001B[43m,\u001B[49m\u001B[43m \u001B[49m\u001B[38;5;28;43mself\u001B[39;49m\u001B[38;5;241;43m.\u001B[39;49m\u001B[43mengine\u001B[49m\u001B[43m)\u001B[49m\n",
      "File \u001B[1;32m~\\AppData\\Local\\Programs\\Python\\Python312\\Lib\\site-packages\\pandas\\io\\parsers\\readers.py:1880\u001B[0m, in \u001B[0;36mTextFileReader._make_engine\u001B[1;34m(self, f, engine)\u001B[0m\n\u001B[0;32m   1878\u001B[0m     \u001B[38;5;28;01mif\u001B[39;00m \u001B[38;5;124m\"\u001B[39m\u001B[38;5;124mb\u001B[39m\u001B[38;5;124m\"\u001B[39m \u001B[38;5;129;01mnot\u001B[39;00m \u001B[38;5;129;01min\u001B[39;00m mode:\n\u001B[0;32m   1879\u001B[0m         mode \u001B[38;5;241m+\u001B[39m\u001B[38;5;241m=\u001B[39m \u001B[38;5;124m\"\u001B[39m\u001B[38;5;124mb\u001B[39m\u001B[38;5;124m\"\u001B[39m\n\u001B[1;32m-> 1880\u001B[0m \u001B[38;5;28mself\u001B[39m\u001B[38;5;241m.\u001B[39mhandles \u001B[38;5;241m=\u001B[39m \u001B[43mget_handle\u001B[49m\u001B[43m(\u001B[49m\n\u001B[0;32m   1881\u001B[0m \u001B[43m    \u001B[49m\u001B[43mf\u001B[49m\u001B[43m,\u001B[49m\n\u001B[0;32m   1882\u001B[0m \u001B[43m    \u001B[49m\u001B[43mmode\u001B[49m\u001B[43m,\u001B[49m\n\u001B[0;32m   1883\u001B[0m \u001B[43m    \u001B[49m\u001B[43mencoding\u001B[49m\u001B[38;5;241;43m=\u001B[39;49m\u001B[38;5;28;43mself\u001B[39;49m\u001B[38;5;241;43m.\u001B[39;49m\u001B[43moptions\u001B[49m\u001B[38;5;241;43m.\u001B[39;49m\u001B[43mget\u001B[49m\u001B[43m(\u001B[49m\u001B[38;5;124;43m\"\u001B[39;49m\u001B[38;5;124;43mencoding\u001B[39;49m\u001B[38;5;124;43m\"\u001B[39;49m\u001B[43m,\u001B[49m\u001B[43m \u001B[49m\u001B[38;5;28;43;01mNone\u001B[39;49;00m\u001B[43m)\u001B[49m\u001B[43m,\u001B[49m\n\u001B[0;32m   1884\u001B[0m \u001B[43m    \u001B[49m\u001B[43mcompression\u001B[49m\u001B[38;5;241;43m=\u001B[39;49m\u001B[38;5;28;43mself\u001B[39;49m\u001B[38;5;241;43m.\u001B[39;49m\u001B[43moptions\u001B[49m\u001B[38;5;241;43m.\u001B[39;49m\u001B[43mget\u001B[49m\u001B[43m(\u001B[49m\u001B[38;5;124;43m\"\u001B[39;49m\u001B[38;5;124;43mcompression\u001B[39;49m\u001B[38;5;124;43m\"\u001B[39;49m\u001B[43m,\u001B[49m\u001B[43m \u001B[49m\u001B[38;5;28;43;01mNone\u001B[39;49;00m\u001B[43m)\u001B[49m\u001B[43m,\u001B[49m\n\u001B[0;32m   1885\u001B[0m \u001B[43m    \u001B[49m\u001B[43mmemory_map\u001B[49m\u001B[38;5;241;43m=\u001B[39;49m\u001B[38;5;28;43mself\u001B[39;49m\u001B[38;5;241;43m.\u001B[39;49m\u001B[43moptions\u001B[49m\u001B[38;5;241;43m.\u001B[39;49m\u001B[43mget\u001B[49m\u001B[43m(\u001B[49m\u001B[38;5;124;43m\"\u001B[39;49m\u001B[38;5;124;43mmemory_map\u001B[39;49m\u001B[38;5;124;43m\"\u001B[39;49m\u001B[43m,\u001B[49m\u001B[43m \u001B[49m\u001B[38;5;28;43;01mFalse\u001B[39;49;00m\u001B[43m)\u001B[49m\u001B[43m,\u001B[49m\n\u001B[0;32m   1886\u001B[0m \u001B[43m    \u001B[49m\u001B[43mis_text\u001B[49m\u001B[38;5;241;43m=\u001B[39;49m\u001B[43mis_text\u001B[49m\u001B[43m,\u001B[49m\n\u001B[0;32m   1887\u001B[0m \u001B[43m    \u001B[49m\u001B[43merrors\u001B[49m\u001B[38;5;241;43m=\u001B[39;49m\u001B[38;5;28;43mself\u001B[39;49m\u001B[38;5;241;43m.\u001B[39;49m\u001B[43moptions\u001B[49m\u001B[38;5;241;43m.\u001B[39;49m\u001B[43mget\u001B[49m\u001B[43m(\u001B[49m\u001B[38;5;124;43m\"\u001B[39;49m\u001B[38;5;124;43mencoding_errors\u001B[39;49m\u001B[38;5;124;43m\"\u001B[39;49m\u001B[43m,\u001B[49m\u001B[43m \u001B[49m\u001B[38;5;124;43m\"\u001B[39;49m\u001B[38;5;124;43mstrict\u001B[39;49m\u001B[38;5;124;43m\"\u001B[39;49m\u001B[43m)\u001B[49m\u001B[43m,\u001B[49m\n\u001B[0;32m   1888\u001B[0m \u001B[43m    \u001B[49m\u001B[43mstorage_options\u001B[49m\u001B[38;5;241;43m=\u001B[39;49m\u001B[38;5;28;43mself\u001B[39;49m\u001B[38;5;241;43m.\u001B[39;49m\u001B[43moptions\u001B[49m\u001B[38;5;241;43m.\u001B[39;49m\u001B[43mget\u001B[49m\u001B[43m(\u001B[49m\u001B[38;5;124;43m\"\u001B[39;49m\u001B[38;5;124;43mstorage_options\u001B[39;49m\u001B[38;5;124;43m\"\u001B[39;49m\u001B[43m,\u001B[49m\u001B[43m \u001B[49m\u001B[38;5;28;43;01mNone\u001B[39;49;00m\u001B[43m)\u001B[49m\u001B[43m,\u001B[49m\n\u001B[0;32m   1889\u001B[0m \u001B[43m\u001B[49m\u001B[43m)\u001B[49m\n\u001B[0;32m   1890\u001B[0m \u001B[38;5;28;01massert\u001B[39;00m \u001B[38;5;28mself\u001B[39m\u001B[38;5;241m.\u001B[39mhandles \u001B[38;5;129;01mis\u001B[39;00m \u001B[38;5;129;01mnot\u001B[39;00m \u001B[38;5;28;01mNone\u001B[39;00m\n\u001B[0;32m   1891\u001B[0m f \u001B[38;5;241m=\u001B[39m \u001B[38;5;28mself\u001B[39m\u001B[38;5;241m.\u001B[39mhandles\u001B[38;5;241m.\u001B[39mhandle\n",
      "File \u001B[1;32m~\\AppData\\Local\\Programs\\Python\\Python312\\Lib\\site-packages\\pandas\\io\\common.py:873\u001B[0m, in \u001B[0;36mget_handle\u001B[1;34m(path_or_buf, mode, encoding, compression, memory_map, is_text, errors, storage_options)\u001B[0m\n\u001B[0;32m    868\u001B[0m \u001B[38;5;28;01melif\u001B[39;00m \u001B[38;5;28misinstance\u001B[39m(handle, \u001B[38;5;28mstr\u001B[39m):\n\u001B[0;32m    869\u001B[0m     \u001B[38;5;66;03m# Check whether the filename is to be opened in binary mode.\u001B[39;00m\n\u001B[0;32m    870\u001B[0m     \u001B[38;5;66;03m# Binary mode does not support 'encoding' and 'newline'.\u001B[39;00m\n\u001B[0;32m    871\u001B[0m     \u001B[38;5;28;01mif\u001B[39;00m ioargs\u001B[38;5;241m.\u001B[39mencoding \u001B[38;5;129;01mand\u001B[39;00m \u001B[38;5;124m\"\u001B[39m\u001B[38;5;124mb\u001B[39m\u001B[38;5;124m\"\u001B[39m \u001B[38;5;129;01mnot\u001B[39;00m \u001B[38;5;129;01min\u001B[39;00m ioargs\u001B[38;5;241m.\u001B[39mmode:\n\u001B[0;32m    872\u001B[0m         \u001B[38;5;66;03m# Encoding\u001B[39;00m\n\u001B[1;32m--> 873\u001B[0m         handle \u001B[38;5;241m=\u001B[39m \u001B[38;5;28;43mopen\u001B[39;49m\u001B[43m(\u001B[49m\n\u001B[0;32m    874\u001B[0m \u001B[43m            \u001B[49m\u001B[43mhandle\u001B[49m\u001B[43m,\u001B[49m\n\u001B[0;32m    875\u001B[0m \u001B[43m            \u001B[49m\u001B[43mioargs\u001B[49m\u001B[38;5;241;43m.\u001B[39;49m\u001B[43mmode\u001B[49m\u001B[43m,\u001B[49m\n\u001B[0;32m    876\u001B[0m \u001B[43m            \u001B[49m\u001B[43mencoding\u001B[49m\u001B[38;5;241;43m=\u001B[39;49m\u001B[43mioargs\u001B[49m\u001B[38;5;241;43m.\u001B[39;49m\u001B[43mencoding\u001B[49m\u001B[43m,\u001B[49m\n\u001B[0;32m    877\u001B[0m \u001B[43m            \u001B[49m\u001B[43merrors\u001B[49m\u001B[38;5;241;43m=\u001B[39;49m\u001B[43merrors\u001B[49m\u001B[43m,\u001B[49m\n\u001B[0;32m    878\u001B[0m \u001B[43m            \u001B[49m\u001B[43mnewline\u001B[49m\u001B[38;5;241;43m=\u001B[39;49m\u001B[38;5;124;43m\"\u001B[39;49m\u001B[38;5;124;43m\"\u001B[39;49m\u001B[43m,\u001B[49m\n\u001B[0;32m    879\u001B[0m \u001B[43m        \u001B[49m\u001B[43m)\u001B[49m\n\u001B[0;32m    880\u001B[0m     \u001B[38;5;28;01melse\u001B[39;00m:\n\u001B[0;32m    881\u001B[0m         \u001B[38;5;66;03m# Binary mode\u001B[39;00m\n\u001B[0;32m    882\u001B[0m         handle \u001B[38;5;241m=\u001B[39m \u001B[38;5;28mopen\u001B[39m(handle, ioargs\u001B[38;5;241m.\u001B[39mmode)\n",
      "\u001B[1;31mFileNotFoundError\u001B[0m: [Errno 2] No such file or directory: 'Subway_Ridership_Data_Cleaned.csv'"
     ]
    }
   ],
   "execution_count": 7
  },
  {
   "metadata": {},
   "cell_type": "markdown",
   "source": [
    "\n",
    "#### 3.2 Time Series Analysis: Subway Ridership\n",
    "We perform time series analysis to predict future subway ridership trends."
   ]
  },
  {
   "metadata": {},
   "cell_type": "code",
   "outputs": [],
   "execution_count": null,
   "source": "# Code"
  },
  {
   "metadata": {},
   "cell_type": "markdown",
   "source": "# 4. CitiBike Integration"
  },
  {
   "metadata": {},
   "cell_type": "markdown",
   "source": [
    "#### 4.1 Data Summary\n",
    "\n",
    "We integrate CitiBike data with transit data to assess how well CitiBike complements NYC transit."
   ]
  },
  {
   "metadata": {},
   "cell_type": "code",
   "outputs": [],
   "execution_count": null,
   "source": [
    "# Load CitiBike data\n",
    "citibike_data = pd.read_csv(\"CitiBike_Data.csv\")\n",
    "\n",
    "# Inspect the dataset\n",
    "print(citibike_data.info())"
   ]
  },
  {
   "metadata": {},
   "cell_type": "markdown",
   "source": [
    "#### 4.2 Regression: Weather and Ride Volume\n",
    "\n",
    "A regression model predicts CitiBike ride volume using weather data."
   ]
  },
  {
   "metadata": {},
   "cell_type": "code",
   "outputs": [],
   "execution_count": null,
   "source": "# regression code placeholder"
  },
  {
   "metadata": {},
   "cell_type": "markdown",
   "source": [
    "# 5. Recommendations\n",
    "\n",
    "\n",
    "1. Expand CitiBike stations near high-traffic subway stations.\n",
    "2. Optimize NYC bus routes based on clustering and geospatial data.\n",
    "3. Apply countrywide best practices (e.g., resource allocation strategies)."
   ]
  },
  {
   "metadata": {},
   "cell_type": "markdown",
   "source": [
    "# 5.1 Ethical Considerations\n",
    "\n",
    "We emphasize equitable access and environmental sustainability in all recommendations."
   ]
  },
  {
   "cell_type": "code",
   "metadata": {
    "ExecuteTime": {
     "end_time": "2024-11-27T07:04:42.413619900Z",
     "start_time": "2024-11-15T23:09:32.830140Z"
    }
   },
   "source": [
    "# Hi"
   ],
   "outputs": [],
   "execution_count": 1
  },
  {
   "metadata": {},
   "cell_type": "code",
   "outputs": [],
   "execution_count": null,
   "source": "# Hey Sam"
  }
 ],
 "metadata": {
  "language_info": {
   "name": "python"
  },
  "kernelspec": {
   "name": "python3",
   "language": "python",
   "display_name": "Python 3 (ipykernel)"
  }
 },
 "nbformat": 4,
 "nbformat_minor": 2
}
